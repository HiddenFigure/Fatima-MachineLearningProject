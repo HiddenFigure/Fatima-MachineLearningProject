{
 "cells": [
  {
   "cell_type": "code",
   "execution_count": 177,
   "metadata": {
    "collapsed": true
   },
   "outputs": [],
   "source": [
    "import numpy as np\n",
    "import pandas as pd\n",
    "from matplotlib import pyplot as plt\n",
    "from sklearn.preprocessing import LabelEncoder , OneHotEncoder,QuantileTransformer, Imputer\n",
    "from sklearn.linear_model import Ridge, RidgeCV, ElasticNet, LassoCV, LassoLarsCV, Lasso\n",
    "from sklearn.ensemble import VotingClassifier\n",
    "from sklearn.ensemble import GradientBoostingRegressor , RandomForestRegressor,BaggingRegressor,ExtraTreesRegressor,AdaBoostRegressor\n",
    "from sklearn.model_selection import GridSearchCV\n",
    "from sklearn import grid_search\n",
    "from sklearn.model_selection import cross_val_score\n",
    "import sklearn.cross_validation as cv\n",
    "import seaborn as sns\n",
    "import matplotlib\n",
    "from sklearn.metrics import mean_squared_error\n",
    "\n",
    "from sklearn.pipeline import make_pipeline\n",
    "from sklearn.preprocessing import RobustScaler"
   ]
  },
  {
   "cell_type": "code",
   "execution_count": 178,
   "metadata": {
    "collapsed": true
   },
   "outputs": [],
   "source": [
    "#Load Data\n",
    "\n",
    "df = pd.read_csv('train_clean.csv')\n",
    "df = df.drop(df.columns[0], axis=1)\n",
    "tf = pd.read_csv('test_clean.csv')\n",
    "tf = tf.drop(tf.columns[0], axis=1)\n",
    "\n"
   ]
  },
  {
   "cell_type": "code",
   "execution_count": 179,
   "metadata": {
    "collapsed": true
   },
   "outputs": [],
   "source": [
    "#Separate X_train y_train and y_test\n",
    "y_train = df['SalesPrice']\n",
    "X_train = df.drop('SalesPrice', axis=1)\n",
    "X_test = tf.copy()\n",
    "\n",
    "del df,tf\n"
   ]
  },
  {
   "cell_type": "code",
   "execution_count": 180,
   "metadata": {
    "collapsed": true
   },
   "outputs": [],
   "source": [
    "# Trying Random Forest Regression Model\n",
    "Model_Random_Forest = RandomForestRegressor(n_estimators=100)"
   ]
  },
  {
   "cell_type": "code",
   "execution_count": 181,
   "metadata": {},
   "outputs": [
    {
     "data": {
      "text/plain": [
       "RandomForestRegressor(bootstrap=True, criterion='mse', max_depth=None,\n",
       "           max_features='auto', max_leaf_nodes=None,\n",
       "           min_impurity_decrease=0.0, min_impurity_split=None,\n",
       "           min_samples_leaf=1, min_samples_split=2,\n",
       "           min_weight_fraction_leaf=0.0, n_estimators=100, n_jobs=1,\n",
       "           oob_score=False, random_state=None, verbose=0, warm_start=False)"
      ]
     },
     "execution_count": 181,
     "metadata": {},
     "output_type": "execute_result"
    }
   ],
   "source": [
    "Model_Random_Forest.fit(X_train, y_train)"
   ]
  },
  {
   "cell_type": "code",
   "execution_count": 182,
   "metadata": {
    "collapsed": true
   },
   "outputs": [],
   "source": [
    "kf = cv.KFold(1460, n_folds=10, shuffle=True)"
   ]
  },
  {
   "cell_type": "code",
   "execution_count": 183,
   "metadata": {
    "scrolled": false
   },
   "outputs": [
    {
     "name": "stdout",
     "output_type": "stream",
     "text": [
      "[ 0.83932252  0.90919543  0.89367289  0.89085487  0.86472873  0.88351283\n",
      "  0.87394331  0.88706045  0.90415393  0.85179823]  and the mean score is =  0.879824317297\n"
     ]
    }
   ],
   "source": [
    "scores = cv.cross_val_score(Model_Random_Forest, X_train, y_train, cv=10)\n",
    "print(scores, ' and the mean score is = ', scores.mean())"
   ]
  },
  {
   "cell_type": "code",
   "execution_count": 184,
   "metadata": {},
   "outputs": [
    {
     "data": {
      "text/plain": [
       "array([  5.55289153e-03,   2.92277646e-03,   1.12078150e-04,\n",
       "         3.10261605e-04,   1.13571016e-03,   5.32883971e-04,\n",
       "         1.48442188e-03,   1.10006884e-02,   2.99041277e-04,\n",
       "         2.69080599e-03,   4.88076207e-04,   7.49570186e-04,\n",
       "         1.25593936e-04,   3.39494206e-03,   7.45873566e-03,\n",
       "         1.67881877e-02,   1.83012116e-03,   8.57008481e-04,\n",
       "         1.36719664e-03,   5.89894565e-04,   1.05939056e-03,\n",
       "         3.40447661e-03,   1.15863768e-03,   1.58515213e-03,\n",
       "         1.10688670e-02,   1.36751343e-02,   1.07015257e-03,\n",
       "         1.73027595e-03,   1.79790298e-03,   7.32318417e-03,\n",
       "         1.26075416e-02,   6.35010698e-04,   1.00552604e-03,\n",
       "         1.29590478e-03,   3.98147399e-03,   4.49367737e-04,\n",
       "         1.06271519e-02,   4.81655436e-03,   1.48302669e-03,\n",
       "         5.46785293e-05,   1.65280732e-03,   1.90182104e-03,\n",
       "         1.04264884e-04,   3.14483695e-03,   3.00539242e-03,\n",
       "         9.61572240e-03,   4.33740966e-01,   1.24235643e-03,\n",
       "         8.18939833e-06,   1.91667144e-05,   3.79270662e-04,\n",
       "         5.45347509e-05,   1.63323742e-03,   4.38483604e-03,\n",
       "         2.25827484e-03,   1.21612836e-02,   1.20108841e-02,\n",
       "         1.45875172e-03,   3.36010496e-01,   7.58437912e-04,\n",
       "         6.78801496e-05,   5.64058863e-05,   3.32673447e-05,\n",
       "         8.67744430e-05,   2.67471694e-04,   1.39974360e-04,\n",
       "         4.10455306e-04,   1.12644317e-04,   2.91335682e-05,\n",
       "         9.92603396e-05,   3.23543792e-05,   8.03706420e-07,\n",
       "         6.35112725e-07,   3.95166966e-07,   3.16627928e-05,\n",
       "         2.47794678e-05,   5.01070858e-10,   6.14450937e-07,\n",
       "         2.74760708e-07,   1.17261145e-08,   8.37650151e-06,\n",
       "         1.25732501e-04,   8.53574813e-05,   9.21786988e-07,\n",
       "         2.60942002e-05,   2.46466597e-04,   8.14656170e-05,\n",
       "         1.17639034e-07,   4.67435914e-04,   3.30920648e-04,\n",
       "         1.65708761e-07,   8.27504170e-05,   1.65219905e-04,\n",
       "         6.01637074e-08,   2.70989398e-04,   2.67158732e-04,\n",
       "         2.89413413e-06,   6.28746834e-05,   4.32791785e-04,\n",
       "         1.67400680e-04,   1.27576801e-05,   6.22522994e-05,\n",
       "         8.65639503e-08,   1.11028653e-03,   2.61960460e-04,\n",
       "         6.54163680e-08,   9.62697509e-05,   1.61833703e-04,\n",
       "         6.34498198e-06,   1.97190476e-04,   1.62461351e-06,\n",
       "         1.19729613e-04,   5.19619099e-07,   8.81164900e-05,\n",
       "         4.43620862e-04,   1.75512577e-04,   7.62518882e-05,\n",
       "         2.81748524e-04,   4.10741487e-04,   3.35460469e-04,\n",
       "         7.78300551e-06,   2.56560968e-06,   4.35262680e-06,\n",
       "         2.13478471e-05,   7.87838122e-04,   4.63856533e-05,\n",
       "         4.41761535e-05,   1.25348099e-04,   2.58171542e-03,\n",
       "         1.01124256e-04,   1.36635646e-06,   7.63153959e-05,\n",
       "         1.47854577e-05,   2.80863432e-04,   1.95977858e-06,\n",
       "         2.73260912e-08,   3.96938915e-04,   1.09367184e-05,\n",
       "         2.35153669e-04,   2.00820112e-05,   2.44883101e-06,\n",
       "         2.52357856e-04,   9.84804397e-06,   1.12890674e-04,\n",
       "         1.00380259e-04,   4.70812514e-04,   8.63228783e-05,\n",
       "         4.12136795e-04,   3.55722634e-04,   2.22952862e-04,\n",
       "         8.09219511e-05,   1.52653868e-05,   3.59114367e-04,\n",
       "         3.39209570e-03,   4.90829938e-05,   2.27173010e-05,\n",
       "         9.81836886e-04,   3.28820542e-03,   1.05000512e-04,\n",
       "         3.03948091e-04,   2.10214513e-04,   2.02755527e-04,\n",
       "         1.16659523e-06,   7.96074477e-05,   3.81319127e-05,\n",
       "         4.64087918e-05,   0.00000000e+00,   1.32896632e-05,\n",
       "         2.61925678e-06,   3.26123063e-06,   1.05127856e-04,\n",
       "         7.26117288e-05,   1.70761821e-04,   7.64146622e-04,\n",
       "         4.09014031e-04,   5.88710304e-05,   3.03973054e-04,\n",
       "         1.14778427e-04,   1.33681732e-04,   3.79082530e-04,\n",
       "         3.97397073e-06,   1.21264575e-04,   1.23415671e-04,\n",
       "         8.42010310e-05,   1.26539265e-03,   5.02823268e-05,\n",
       "         1.17879743e-04,   4.60164177e-05,   1.23351163e-04,\n",
       "         2.35089522e-04,   5.04198640e-05,   1.63530203e-05,\n",
       "         1.53942000e-04,   3.75374825e-06,   1.76006066e-07,\n",
       "         1.03114349e-08,   1.12165811e-05,   3.06347477e-06,\n",
       "         6.44168492e-08,   2.22068324e-05,   4.48704865e-04,\n",
       "         1.26290694e-04,   3.22355058e-04,   4.01314963e-06,\n",
       "         4.42352784e-06,   1.13425245e-03,   3.69550535e-06,\n",
       "         1.14093469e-04,   1.45744945e-03,   6.26352450e-04,\n",
       "         9.28108646e-05,   1.13866695e-04,   1.23433833e-05,\n",
       "         5.29367599e-06,   5.22854930e-05,   4.08968800e-06,\n",
       "         9.64785500e-06,   1.98725337e-04,   4.00111899e-06,\n",
       "         2.10405690e-04])"
      ]
     },
     "execution_count": 184,
     "metadata": {},
     "output_type": "execute_result"
    }
   ],
   "source": [
    "#Feature Importance Comparison\n",
    "feature_importance = Model_Random_Forest.feature_importances_\n",
    "feature_importance"
   ]
  },
  {
   "cell_type": "code",
   "execution_count": 185,
   "metadata": {},
   "outputs": [
    {
     "data": {
      "image/png": "[encoded data removed]",
      "text/plain": [
       "<matplotlib.figure.Figure at 0x11e288dd358>"
      ]
     },
     "metadata": {},
     "output_type": "display_data"
    }
   ],
   "source": [
    "# features relative importance: comparing feature importance with respect to the most important one\n",
    "\n",
    "feature_importance = 100 * (feature_importance / feature_importance.max())\n",
    "sorted_index = np.argsort(feature_importance)\n",
    "featimp = feature_importance[sorted_index]\n",
    "feat = X_train.columns[sorted_index]\n",
    "pos = np.arange(sorted_index.shape[0]) + .5\n",
    "\n",
    "a = 0 \n",
    "b = 30 #To limit the number of features\n",
    "c = b - a\n",
    "\n",
    "featimp= featimp[::-1][a:b]\n",
    "feat = feat[::-1][a:b]\n",
    "pos = pos[::-1][a:b]\n",
    "\n",
    "fig = plt.figure(figsize=(7,7))\n",
    "plt.subplot2grid((1,1), (0,0))\n",
    "with sns.axes_style(\"white\"):\n",
    "    ax = sns.barplot(y=feat, x=featimp)\n",
    "plt.xlabel('Relative Importance')\n",
    "plt.title('Variable Importance (first {0} variables)'.format(c))\n",
    "plt.show()"
   ]
  },
  {
   "cell_type": "code",
   "execution_count": 186,
   "metadata": {},
   "outputs": [
    {
     "data": {
      "text/plain": [
       "[('Random Forest Regressor', 0.88291345981114255),\n",
       " ('Gradient Boost Regressor', 0.90374987899143344),\n",
       " ('ExtraTrees Regressor', 0.8982422196665214),\n",
       " ('Bagging Regressor', 0.88138692887517378),\n",
       " ('AdaBoost Regressor', 0.81701211770958015)]"
      ]
     },
     "execution_count": 186,
     "metadata": {},
     "output_type": "execute_result"
    }
   ],
   "source": [
    "#Comparing the scores of different Regression models: RandomForest, Bagging,ExtraTrees, AdaBoost,\n",
    "# Gradient Boosting\n",
    "def check_classifiers(X, y):\n",
    "    \"\"\"\n",
    "    Returns a sorted list of accuracy scores from fitting and scoring passed data\n",
    "    against several algorithms.\n",
    "    \"\"\"\n",
    "    params = 100\n",
    "    _cv = kf\n",
    "    classifier_score = {}\n",
    "    \n",
    "    scores = cv.cross_val_score(RandomForestRegressor(n_estimators=params), X, y, cv=10)\n",
    "    RandomForestRegressor_Score=classifier_score['Random Forest Regressor'] = scores.mean()\n",
    "    \n",
    "    scores = cv.cross_val_score(BaggingRegressor(n_estimators=params), X, y, cv=10)\n",
    "    BaggingRegressor_Score = classifier_score['Bagging Regressor'] = scores.mean()\n",
    "    \n",
    "    scores = cv.cross_val_score(ExtraTreesRegressor(n_estimators=params), X, y, cv=10)\n",
    "    ExtraTreesRegressor_Score =classifier_score['ExtraTrees Regressor'] = scores.mean()\n",
    "    \n",
    "    scores = cv.cross_val_score(AdaBoostRegressor(n_estimators=params), X, y, cv=10)\n",
    "    AdaBoostRegressor_Score =classifier_score['AdaBoost Regressor'] = scores.mean()\n",
    "    \n",
    "    scores = cv.cross_val_score(GradientBoostingRegressor(n_estimators=params), X, y, cv=10)\n",
    "    GradientBoostingRegressor_Score =classifier_score['Gradient Boost Regressor'] = scores.mean()\n",
    "\n",
    "    #return sorted(classifier_score.items(), key=operator.itemgetter(1), reverse=True)\n",
    "    return sorted(classifier_score.items(), reverse=True)\n",
    "\n",
    "check_classifiers(X_train, y_train)"
   ]
  },
  {
   "cell_type": "code",
   "execution_count": 190,
   "metadata": {},
   "outputs": [
    {
     "name": "stdout",
     "output_type": "stream",
     "text": [
      "(0.11805388932961647, 0.09577259731272236, 0.1013912872773961, 0.11843255097596561, 0.18392745534586863)\n"
     ]
    }
   ],
   "source": [
    "Scores=(0.88194611067038353,0.90422740268727764,0.8986087127226039,0.88156744902403439,0.81607254465413137)\n",
    "Scores_PeakVal=('0.88194611067038353','0.90422740268727764','0.8986087127226039','0.88156744902403439','0.81607254465413137')\n",
    "error =(1-0.88194611067038353,1-0.90422740268727764,1-0.8986087127226039,1-0.88156744902403439,1-0.81607254465413137)\n",
    "#error_PeakVal =(1-0.88194611067038353,1-0.90422740268727764,1-0.8986087127226039,1-0.88156744902403439,1-0.81607254465413137)\n",
    "print(error_PeakVal)"
   ]
  },
  {
   "cell_type": "code",
   "execution_count": 204,
   "metadata": {},
   "outputs": [
    {
     "name": "stdout",
     "output_type": "stream",
     "text": [
      "0.88194611067\n",
      "0.904227402687\n",
      "0.898608712723\n",
      "0.881567449024\n",
      "0.816072544654\n",
      "0.11805388933\n",
      "0.0957725973127\n",
      "0.101391287277\n",
      "0.118432550976\n",
      "0.183927455346\n"
     ]
    },
    {
     "data": {
      "image/png": "[encoded data removed]",
      "text/plain": [
       "<matplotlib.figure.Figure at 0x11e2fc19c88>"
      ]
     },
     "metadata": {},
     "output_type": "display_data"
    }
   ],
   "source": [
    "N = 5\n",
    "menMeans = (20, 35, 30, 35, 27)\n",
    "menStd =   (2, 3, 4, 1, 2)\n",
    "\n",
    "ind = np.arange(N)  # the x locations for the groups\n",
    "width = 0.35       # the width of the bars\n",
    "\n",
    "\n",
    "plt.subplot(111)\n",
    "rects1 = plt.bar(ind, Scores, width,\n",
    "                    color='r',\n",
    "                    error_kw=dict(elinewidth=6, ecolor='pink'))\n",
    "\n",
    "womenMeans = (25, 32, 34, 20, 25)\n",
    "womenStd =   (3, 5, 2, 3, 3)\n",
    "rects2 = plt.bar(ind+width, error, width,\n",
    "                    color='y',\n",
    "                    error_kw=dict(elinewidth=6, ecolor='yellow'))\n",
    "\n",
    "\n",
    "plt.xlabel('Models')\n",
    "plt.ylabel('Scores')\n",
    "plt.title('Accuracy Scores of Regression Models')\n",
    "plt.xticks(ind + width, ('Random Forest Regressor', 'Gradient Boost Regressor', 'ExtraTrees Regressor', 'Bagging Regressor','AdaBoost Regressor'))\n",
    "\n",
    "\n",
    "plt.legend( (rects1[0], rects2[0]), ('Score', 'Error') )\n",
    "\n",
    "def autolabel(rects):\n",
    "    # attach some text labels\n",
    "    for rect in rects:\n",
    "        height = rect.get_height()\n",
    "        print(height)\n",
    "        plt.text(rect.get_x()+rect.get_width()/2., 1.02*height,height,\n",
    "                ha='center', va='bottom')\n",
    "\n",
    "autolabel(rects1)\n",
    "autolabel(rects2)\n",
    "\n",
    "plt.show()\n"
   ]
  },
  {
   "cell_type": "code",
   "execution_count": 213,
   "metadata": {},
   "outputs": [
    {
     "data": {
      "image/png": "[encoded data removed]",
      "text/plain": [
       "<matplotlib.figure.Figure at 0x11e2d4aa438>"
      ]
     },
     "metadata": {},
     "output_type": "display_data"
    }
   ],
   "source": [
    "n_groups = 5\n",
    "index = np.arange(n_groups)\n",
    "rects1 = plt.bar(index,Scores, bar_width,\n",
    "                 color='y',\n",
    "                 label='Score')\n",
    " \n",
    "rects2 = plt.bar(index + bar_width, error, bar_width,\n",
    "                 color='r',\n",
    "                 label='Error')\n",
    "def autolabel(rects):\n",
    "    \"\"\"\n",
    "    Attach a text label above each bar displaying its height\n",
    "    \"\"\"\n",
    "    for rect in rects:\n",
    "        height = rect.get_height()\n",
    "        plt.text(rect.get_x() + rect.get_width()/1.2, 1.02*height,\n",
    "                 height,\n",
    "                ha='center', va='bottom')\n",
    "\n",
    "autolabel(rects1)\n",
    "autolabel(rects2)\n",
    "\n",
    "#fig_size = plt.rcParams[\"figure.figsize\"]\n",
    "#fig_size[0] =15\n",
    "#fig_size[1] =15\n",
    "#plt.rcParams[\"figure.figsize\"] = fig_size\n",
    "plt.xlabel('Models')\n",
    "plt.ylabel('Scores')\n",
    "plt.title('Accuracy Scores of Regression Models')\n",
    "plt.xticks(index + bar_width, ('Random Forest Regressor', 'Gradient Boost Regressor', 'ExtraTrees Regressor', 'Bagging Regressor','AdaBoost Regressor'))\n",
    "plt.legend()\n",
    "#plt.figure()\n",
    "\n",
    "\n",
    "plt.show()"
   ]
  },
  {
   "cell_type": "code",
   "execution_count": 217,
   "metadata": {},
   "outputs": [
    {
     "data": {
      "text/plain": [
       "[mean: -0.05845, std: 0.01018, params: {'learning_rate': 0.001, 'loss': 'ls', 'max_depth': 2, 'n_estimators': 1000},\n",
       " mean: -0.03391, std: 0.00643, params: {'learning_rate': 0.001, 'loss': 'ls', 'max_depth': 2, 'n_estimators': 2000},\n",
       " mean: -0.02537, std: 0.00469, params: {'learning_rate': 0.001, 'loss': 'ls', 'max_depth': 2, 'n_estimators': 3000},\n",
       " mean: -0.02158, std: 0.00379, params: {'learning_rate': 0.001, 'loss': 'ls', 'max_depth': 2, 'n_estimators': 4000},\n",
       " mean: -0.01949, std: 0.00345, params: {'learning_rate': 0.001, 'loss': 'ls', 'max_depth': 2, 'n_estimators': 5000},\n",
       " mean: -0.01802, std: 0.00341, params: {'learning_rate': 0.001, 'loss': 'ls', 'max_depth': 2, 'n_estimators': 6000},\n",
       " mean: -0.01699, std: 0.00341, params: {'learning_rate': 0.001, 'loss': 'ls', 'max_depth': 2, 'n_estimators': 7000},\n",
       " mean: -0.01625, std: 0.00343, params: {'learning_rate': 0.001, 'loss': 'ls', 'max_depth': 2, 'n_estimators': 8000},\n",
       " mean: -0.01570, std: 0.00344, params: {'learning_rate': 0.001, 'loss': 'ls', 'max_depth': 2, 'n_estimators': 9000},\n",
       " mean: -0.06076, std: 0.01052, params: {'learning_rate': 0.001, 'loss': 'huber', 'max_depth': 2, 'n_estimators': 1000},\n",
       " mean: -0.03636, std: 0.00663, params: {'learning_rate': 0.001, 'loss': 'huber', 'max_depth': 2, 'n_estimators': 2000},\n",
       " mean: -0.02730, std: 0.00503, params: {'learning_rate': 0.001, 'loss': 'huber', 'max_depth': 2, 'n_estimators': 3000},\n",
       " mean: -0.02309, std: 0.00416, params: {'learning_rate': 0.001, 'loss': 'huber', 'max_depth': 2, 'n_estimators': 4000},\n",
       " mean: -0.02075, std: 0.00380, params: {'learning_rate': 0.001, 'loss': 'huber', 'max_depth': 2, 'n_estimators': 5000},\n",
       " mean: -0.01928, std: 0.00367, params: {'learning_rate': 0.001, 'loss': 'huber', 'max_depth': 2, 'n_estimators': 6000},\n",
       " mean: -0.01822, std: 0.00355, params: {'learning_rate': 0.001, 'loss': 'huber', 'max_depth': 2, 'n_estimators': 7000},\n",
       " mean: -0.01740, std: 0.00351, params: {'learning_rate': 0.001, 'loss': 'huber', 'max_depth': 2, 'n_estimators': 8000},\n",
       " mean: -0.01678, std: 0.00354, params: {'learning_rate': 0.001, 'loss': 'huber', 'max_depth': 2, 'n_estimators': 9000}]"
      ]
     },
     "execution_count": 217,
     "metadata": {},
     "output_type": "execute_result"
    }
   ],
   "source": [
    "# Determine ‘optimal’ number of components\n",
    "# I modified this frequently and it took alot of time for each iteration.. but at the end I chose\n",
    "# the ranges that gives the lowest neg_mean_square_error.\n",
    "model_GradientBoostingRegression = GradientBoostingRegressor()\n",
    "\n",
    "gs = grid_search.GridSearchCV(\n",
    "    estimator=model_GradientBoostingRegression,\n",
    "    param_grid={'loss': ['ls', 'huber'],\n",
    "                'learning_rate': [0.001],\n",
    "                'n_estimators': np.arange(1000,10000,1000),\n",
    "                'max_depth': [2]\n",
    "                },\n",
    "    scoring='neg_mean_squared_error',\n",
    "    cv=10\n",
    "    )\n",
    "\n",
    "gs.fit(X_train, y_train)\n",
    "\n",
    "\n",
    "gs.grid_scores_"
   ]
  },
  {
   "cell_type": "code",
   "execution_count": 219,
   "metadata": {},
   "outputs": [
    {
     "name": "stdout",
     "output_type": "stream",
     "text": [
      "Lowest mean squared error =  -0.01569796683067457\n"
     ]
    },
    {
     "data": {
      "text/plain": [
       "GradientBoostingRegressor(alpha=0.9, criterion='friedman_mse', init=None,\n",
       "             learning_rate=0.001, loss='ls', max_depth=2,\n",
       "             max_features=None, max_leaf_nodes=None,\n",
       "             min_impurity_decrease=0.0, min_impurity_split=None,\n",
       "             min_samples_leaf=1, min_samples_split=2,\n",
       "             min_weight_fraction_leaf=0.0, n_estimators=9000,\n",
       "             presort='auto', random_state=None, subsample=1.0, verbose=0,\n",
       "             warm_start=False)"
      ]
     },
     "execution_count": 219,
     "metadata": {},
     "output_type": "execute_result"
    }
   ],
   "source": [
    "print('Lowest mean squared error = ', gs.best_score_)\n",
    "\n",
    "gs.best_estimator_"
   ]
  },
  {
   "cell_type": "code",
   "execution_count": 111,
   "metadata": {},
   "outputs": [
    {
     "data": {
      "text/plain": [
       "0.11386977832420478"
      ]
     },
     "execution_count": 111,
     "metadata": {},
     "output_type": "execute_result"
    }
   ],
   "source": [
    "from math import sqrt\n",
    "sqrt(-gs.best_score_)"
   ]
  },
  {
   "cell_type": "code",
   "execution_count": 245,
   "metadata": {},
   "outputs": [
    {
     "data": {
      "text/plain": [
       "[mean: -0.01411, std: 0.00394, params: {'learning_rate': 0.0048, 'loss': 'huber', 'max_depth': 3, 'n_estimators': 14800}]"
      ]
     },
     "execution_count": 245,
     "metadata": {},
     "output_type": "execute_result"
    }
   ],
   "source": [
    "# Depending on the Classifier scores.. Gradient Boosting was chosen.4 gradient boosting models\n",
    "#were created\n",
    "#HyperParameter Tuning for Gradient Boosting Regression\n",
    "model_GradientBoostingRegression = GradientBoostingRegressor()\n",
    "\n",
    "gs = grid_search.GridSearchCV(\n",
    "    estimator=model_GradientBoostingRegression,\n",
    "    param_grid={'loss': ['huber'],\n",
    "                'learning_rate': [0.0048],\n",
    "                'n_estimators': [14800],\n",
    "                'max_depth': [3]\n",
    "                },\n",
    "    scoring='neg_mean_squared_error',\n",
    "    cv=10\n",
    "    )\n",
    "\n",
    "gs.fit(X_train, y_train)\n",
    "\n",
    "\n",
    "gs.grid_scores_"
   ]
  },
  {
   "cell_type": "code",
   "execution_count": 6,
   "metadata": {},
   "outputs": [
    {
     "data": {
      "text/plain": [
       "GradientBoostingRegressor(alpha=0.9, criterion='friedman_mse', init=None,\n",
       "             learning_rate=0.0048, loss='huber', max_depth=2,\n",
       "             max_features=None, max_leaf_nodes=None,\n",
       "             min_impurity_decrease=0.0, min_impurity_split=None,\n",
       "             min_samples_leaf=1, min_samples_split=2,\n",
       "             min_weight_fraction_leaf=0.0, n_estimators=14800,\n",
       "             presort='auto', random_state=None, subsample=1.0, verbose=0,\n",
       "             warm_start=False)"
      ]
     },
     "execution_count": 6,
     "metadata": {},
     "output_type": "execute_result"
    }
   ],
   "source": [
    "# GradientBoosting Regression Model1 with the right parameters \n",
    "Model_GradientBoostingRegression_1= GradientBoostingRegressor(alpha=0.9, init=None, learning_rate=0.0048, loss='huber',\n",
    "             max_depth=2, max_features=None, max_leaf_nodes=None,\n",
    "             min_samples_leaf=1, min_samples_split=2,\n",
    "             min_weight_fraction_leaf=0.0, n_estimators=14800,\n",
    "             presort='auto', random_state=None, subsample=1.0, verbose=0,\n",
    "             warm_start=False)\n",
    "Model_GradientBoostingRegression_1.fit(X_train, y_train)"
   ]
  },
  {
   "cell_type": "code",
   "execution_count": 7,
   "metadata": {},
   "outputs": [
    {
     "data": {
      "text/plain": [
       "GradientBoostingRegressor(alpha=0.9, criterion='friedman_mse', init=None,\n",
       "             learning_rate=0.0048, loss='huber', max_depth=1,\n",
       "             max_features=None, max_leaf_nodes=None,\n",
       "             min_impurity_decrease=0.0, min_impurity_split=None,\n",
       "             min_samples_leaf=1, min_samples_split=2,\n",
       "             min_weight_fraction_leaf=0.0, n_estimators=14800,\n",
       "             presort='auto', random_state=None, subsample=1.0, verbose=0,\n",
       "             warm_start=False)"
      ]
     },
     "execution_count": 7,
     "metadata": {},
     "output_type": "execute_result"
    }
   ],
   "source": [
    "Model_GradientBoostingRegression_2 = GradientBoostingRegressor(alpha=0.9, init=None, learning_rate=0.0048, loss='huber',\n",
    "             max_depth=1, max_features=None, max_leaf_nodes=None,\n",
    "             min_samples_leaf=1, min_samples_split=2,\n",
    "             min_weight_fraction_leaf=0.0, n_estimators=14800,\n",
    "             presort='auto', random_state=None, subsample=1.0, verbose=0,\n",
    "             warm_start=False)\n",
    "Model_GradientBoostingRegression_2.fit(X_train, y_train)"
   ]
  },
  {
   "cell_type": "code",
   "execution_count": 8,
   "metadata": {},
   "outputs": [
    {
     "data": {
      "text/plain": [
       "GradientBoostingRegressor(alpha=0.9, criterion='friedman_mse', init=None,\n",
       "             learning_rate=0.0048, loss='huber', max_depth=3,\n",
       "             max_features=None, max_leaf_nodes=None,\n",
       "             min_impurity_decrease=0.0, min_impurity_split=None,\n",
       "             min_samples_leaf=1, min_samples_split=2,\n",
       "             min_weight_fraction_leaf=0.0, n_estimators=14800,\n",
       "             presort='auto', random_state=None, subsample=1.0, verbose=0,\n",
       "             warm_start=False)"
      ]
     },
     "execution_count": 8,
     "metadata": {},
     "output_type": "execute_result"
    }
   ],
   "source": [
    "Model_GradientBoostingRegression_3 = GradientBoostingRegressor(alpha=0.9, init=None, learning_rate=0.0048, loss='huber',\n",
    "             max_depth=3, max_features=None, max_leaf_nodes=None,\n",
    "             min_samples_leaf=1, min_samples_split=2,\n",
    "             min_weight_fraction_leaf=0.0, n_estimators=14800,\n",
    "             presort='auto', random_state=None, subsample=1.0, verbose=0,\n",
    "             warm_start=False)\n",
    "Model_GradientBoostingRegression_3.fit(X_train, y_train)"
   ]
  },
  {
   "cell_type": "code",
   "execution_count": 9,
   "metadata": {},
   "outputs": [
    {
     "data": {
      "text/plain": [
       "GradientBoostingRegressor(alpha=0.9, criterion='friedman_mse', init=None,\n",
       "             learning_rate=0.0048, loss='huber', max_depth=4,\n",
       "             max_features=None, max_leaf_nodes=None,\n",
       "             min_impurity_decrease=0.0, min_impurity_split=None,\n",
       "             min_samples_leaf=1, min_samples_split=2,\n",
       "             min_weight_fraction_leaf=0.0, n_estimators=14800,\n",
       "             presort='auto', random_state=None, subsample=1.0, verbose=0,\n",
       "             warm_start=False)"
      ]
     },
     "execution_count": 9,
     "metadata": {},
     "output_type": "execute_result"
    }
   ],
   "source": [
    "Model_GradientBoostingRegression_4 = GradientBoostingRegressor(alpha=0.9, init=None, learning_rate=0.0048, loss='huber',\n",
    "             max_depth=4, max_features=None, max_leaf_nodes=None,\n",
    "             min_samples_leaf=1, min_samples_split=2,\n",
    "             min_weight_fraction_leaf=0.0, n_estimators=14800,\n",
    "             presort='auto', random_state=None, subsample=1.0, verbose=0,\n",
    "             warm_start=False)\n",
    "Model_GradientBoostingRegression_4.fit(X_train, y_train)"
   ]
  },
  {
   "cell_type": "code",
   "execution_count": 21,
   "metadata": {},
   "outputs": [
    {
     "ename": "KeyboardInterrupt",
     "evalue": "",
     "output_type": "error",
     "traceback": [
      "\u001b[1;31m---------------------------------------------------------------------------\u001b[0m",
      "\u001b[1;31mKeyboardInterrupt\u001b[0m                         Traceback (most recent call last)",
      "\u001b[1;32m<ipython-input-21-8e550c589038>\u001b[0m in \u001b[0;36m<module>\u001b[1;34m()\u001b[0m\n\u001b[0;32m      3\u001b[0m \u001b[0mscores\u001b[0m \u001b[1;33m=\u001b[0m \u001b[0mcv\u001b[0m\u001b[1;33m.\u001b[0m\u001b[0mcross_val_score\u001b[0m\u001b[1;33m(\u001b[0m\u001b[0mModel_GradientBoostingRegression_2\u001b[0m\u001b[1;33m,\u001b[0m \u001b[0mX_train\u001b[0m\u001b[1;33m,\u001b[0m \u001b[0my_train\u001b[0m\u001b[1;33m,\u001b[0m \u001b[0mcv\u001b[0m\u001b[1;33m=\u001b[0m\u001b[1;36m10\u001b[0m\u001b[1;33m)\u001b[0m\u001b[1;33m\u001b[0m\u001b[0m\n\u001b[0;32m      4\u001b[0m \u001b[0mscores\u001b[0m\u001b[1;33m.\u001b[0m\u001b[0mmean\u001b[0m\u001b[1;33m(\u001b[0m\u001b[1;33m)\u001b[0m\u001b[1;33m\u001b[0m\u001b[0m\n\u001b[1;32m----> 5\u001b[1;33m \u001b[0mscores\u001b[0m \u001b[1;33m=\u001b[0m \u001b[0mcv\u001b[0m\u001b[1;33m.\u001b[0m\u001b[0mcross_val_score\u001b[0m\u001b[1;33m(\u001b[0m\u001b[0mModel_GradientBoostingRegression_3\u001b[0m\u001b[1;33m,\u001b[0m \u001b[0mX_train\u001b[0m\u001b[1;33m,\u001b[0m \u001b[0my_train\u001b[0m\u001b[1;33m,\u001b[0m \u001b[0mcv\u001b[0m\u001b[1;33m=\u001b[0m\u001b[1;36m10\u001b[0m\u001b[1;33m)\u001b[0m\u001b[1;33m\u001b[0m\u001b[0m\n\u001b[0m\u001b[0;32m      6\u001b[0m \u001b[0mscores\u001b[0m\u001b[1;33m.\u001b[0m\u001b[0mmean\u001b[0m\u001b[1;33m(\u001b[0m\u001b[1;33m)\u001b[0m\u001b[1;33m\u001b[0m\u001b[0m\n\u001b[0;32m      7\u001b[0m \u001b[0mscores\u001b[0m \u001b[1;33m=\u001b[0m \u001b[0mcv\u001b[0m\u001b[1;33m.\u001b[0m\u001b[0mcross_val_score\u001b[0m\u001b[1;33m(\u001b[0m\u001b[0mModel_GradientBoostingRegression_4\u001b[0m\u001b[1;33m,\u001b[0m \u001b[0mX_train\u001b[0m\u001b[1;33m,\u001b[0m \u001b[0my_train\u001b[0m\u001b[1;33m,\u001b[0m \u001b[0mcv\u001b[0m\u001b[1;33m=\u001b[0m\u001b[1;36m10\u001b[0m\u001b[1;33m)\u001b[0m\u001b[1;33m\u001b[0m\u001b[0m\n",
      "\u001b[1;32m~\\Anaconda3\\lib\\site-packages\\sklearn\\cross_validation.py\u001b[0m in \u001b[0;36mcross_val_score\u001b[1;34m(estimator, X, y, scoring, cv, n_jobs, verbose, fit_params, pre_dispatch)\u001b[0m\n\u001b[0;32m   1579\u001b[0m                                               \u001b[0mtrain\u001b[0m\u001b[1;33m,\u001b[0m \u001b[0mtest\u001b[0m\u001b[1;33m,\u001b[0m \u001b[0mverbose\u001b[0m\u001b[1;33m,\u001b[0m \u001b[1;32mNone\u001b[0m\u001b[1;33m,\u001b[0m\u001b[1;33m\u001b[0m\u001b[0m\n\u001b[0;32m   1580\u001b[0m                                               fit_params)\n\u001b[1;32m-> 1581\u001b[1;33m                       for train, test in cv)\n\u001b[0m\u001b[0;32m   1582\u001b[0m     \u001b[1;32mreturn\u001b[0m \u001b[0mnp\u001b[0m\u001b[1;33m.\u001b[0m\u001b[0marray\u001b[0m\u001b[1;33m(\u001b[0m\u001b[0mscores\u001b[0m\u001b[1;33m)\u001b[0m\u001b[1;33m[\u001b[0m\u001b[1;33m:\u001b[0m\u001b[1;33m,\u001b[0m \u001b[1;36m0\u001b[0m\u001b[1;33m]\u001b[0m\u001b[1;33m\u001b[0m\u001b[0m\n\u001b[0;32m   1583\u001b[0m \u001b[1;33m\u001b[0m\u001b[0m\n",
      "\u001b[1;32m~\\Anaconda3\\lib\\site-packages\\sklearn\\externals\\joblib\\parallel.py\u001b[0m in \u001b[0;36m__call__\u001b[1;34m(self, iterable)\u001b[0m\n\u001b[0;32m    777\u001b[0m             \u001b[1;31m# was dispatched. In particular this covers the edge\u001b[0m\u001b[1;33m\u001b[0m\u001b[1;33m\u001b[0m\u001b[0m\n\u001b[0;32m    778\u001b[0m             \u001b[1;31m# case of Parallel used with an exhausted iterator.\u001b[0m\u001b[1;33m\u001b[0m\u001b[1;33m\u001b[0m\u001b[0m\n\u001b[1;32m--> 779\u001b[1;33m             \u001b[1;32mwhile\u001b[0m \u001b[0mself\u001b[0m\u001b[1;33m.\u001b[0m\u001b[0mdispatch_one_batch\u001b[0m\u001b[1;33m(\u001b[0m\u001b[0miterator\u001b[0m\u001b[1;33m)\u001b[0m\u001b[1;33m:\u001b[0m\u001b[1;33m\u001b[0m\u001b[0m\n\u001b[0m\u001b[0;32m    780\u001b[0m                 \u001b[0mself\u001b[0m\u001b[1;33m.\u001b[0m\u001b[0m_iterating\u001b[0m \u001b[1;33m=\u001b[0m \u001b[1;32mTrue\u001b[0m\u001b[1;33m\u001b[0m\u001b[0m\n\u001b[0;32m    781\u001b[0m             \u001b[1;32melse\u001b[0m\u001b[1;33m:\u001b[0m\u001b[1;33m\u001b[0m\u001b[0m\n",
      "\u001b[1;32m~\\Anaconda3\\lib\\site-packages\\sklearn\\externals\\joblib\\parallel.py\u001b[0m in \u001b[0;36mdispatch_one_batch\u001b[1;34m(self, iterator)\u001b[0m\n\u001b[0;32m    623\u001b[0m                 \u001b[1;32mreturn\u001b[0m \u001b[1;32mFalse\u001b[0m\u001b[1;33m\u001b[0m\u001b[0m\n\u001b[0;32m    624\u001b[0m             \u001b[1;32melse\u001b[0m\u001b[1;33m:\u001b[0m\u001b[1;33m\u001b[0m\u001b[0m\n\u001b[1;32m--> 625\u001b[1;33m                 \u001b[0mself\u001b[0m\u001b[1;33m.\u001b[0m\u001b[0m_dispatch\u001b[0m\u001b[1;33m(\u001b[0m\u001b[0mtasks\u001b[0m\u001b[1;33m)\u001b[0m\u001b[1;33m\u001b[0m\u001b[0m\n\u001b[0m\u001b[0;32m    626\u001b[0m                 \u001b[1;32mreturn\u001b[0m \u001b[1;32mTrue\u001b[0m\u001b[1;33m\u001b[0m\u001b[0m\n\u001b[0;32m    627\u001b[0m \u001b[1;33m\u001b[0m\u001b[0m\n",
      "\u001b[1;32m~\\Anaconda3\\lib\\site-packages\\sklearn\\externals\\joblib\\parallel.py\u001b[0m in \u001b[0;36m_dispatch\u001b[1;34m(self, batch)\u001b[0m\n\u001b[0;32m    586\u001b[0m         \u001b[0mdispatch_timestamp\u001b[0m \u001b[1;33m=\u001b[0m \u001b[0mtime\u001b[0m\u001b[1;33m.\u001b[0m\u001b[0mtime\u001b[0m\u001b[1;33m(\u001b[0m\u001b[1;33m)\u001b[0m\u001b[1;33m\u001b[0m\u001b[0m\n\u001b[0;32m    587\u001b[0m         \u001b[0mcb\u001b[0m \u001b[1;33m=\u001b[0m \u001b[0mBatchCompletionCallBack\u001b[0m\u001b[1;33m(\u001b[0m\u001b[0mdispatch_timestamp\u001b[0m\u001b[1;33m,\u001b[0m \u001b[0mlen\u001b[0m\u001b[1;33m(\u001b[0m\u001b[0mbatch\u001b[0m\u001b[1;33m)\u001b[0m\u001b[1;33m,\u001b[0m \u001b[0mself\u001b[0m\u001b[1;33m)\u001b[0m\u001b[1;33m\u001b[0m\u001b[0m\n\u001b[1;32m--> 588\u001b[1;33m         \u001b[0mjob\u001b[0m \u001b[1;33m=\u001b[0m \u001b[0mself\u001b[0m\u001b[1;33m.\u001b[0m\u001b[0m_backend\u001b[0m\u001b[1;33m.\u001b[0m\u001b[0mapply_async\u001b[0m\u001b[1;33m(\u001b[0m\u001b[0mbatch\u001b[0m\u001b[1;33m,\u001b[0m \u001b[0mcallback\u001b[0m\u001b[1;33m=\u001b[0m\u001b[0mcb\u001b[0m\u001b[1;33m)\u001b[0m\u001b[1;33m\u001b[0m\u001b[0m\n\u001b[0m\u001b[0;32m    589\u001b[0m         \u001b[0mself\u001b[0m\u001b[1;33m.\u001b[0m\u001b[0m_jobs\u001b[0m\u001b[1;33m.\u001b[0m\u001b[0mappend\u001b[0m\u001b[1;33m(\u001b[0m\u001b[0mjob\u001b[0m\u001b[1;33m)\u001b[0m\u001b[1;33m\u001b[0m\u001b[0m\n\u001b[0;32m    590\u001b[0m \u001b[1;33m\u001b[0m\u001b[0m\n",
      "\u001b[1;32m~\\Anaconda3\\lib\\site-packages\\sklearn\\externals\\joblib\\_parallel_backends.py\u001b[0m in \u001b[0;36mapply_async\u001b[1;34m(self, func, callback)\u001b[0m\n\u001b[0;32m    109\u001b[0m     \u001b[1;32mdef\u001b[0m \u001b[0mapply_async\u001b[0m\u001b[1;33m(\u001b[0m\u001b[0mself\u001b[0m\u001b[1;33m,\u001b[0m \u001b[0mfunc\u001b[0m\u001b[1;33m,\u001b[0m \u001b[0mcallback\u001b[0m\u001b[1;33m=\u001b[0m\u001b[1;32mNone\u001b[0m\u001b[1;33m)\u001b[0m\u001b[1;33m:\u001b[0m\u001b[1;33m\u001b[0m\u001b[0m\n\u001b[0;32m    110\u001b[0m         \u001b[1;34m\"\"\"Schedule a func to be run\"\"\"\u001b[0m\u001b[1;33m\u001b[0m\u001b[0m\n\u001b[1;32m--> 111\u001b[1;33m         \u001b[0mresult\u001b[0m \u001b[1;33m=\u001b[0m \u001b[0mImmediateResult\u001b[0m\u001b[1;33m(\u001b[0m\u001b[0mfunc\u001b[0m\u001b[1;33m)\u001b[0m\u001b[1;33m\u001b[0m\u001b[0m\n\u001b[0m\u001b[0;32m    112\u001b[0m         \u001b[1;32mif\u001b[0m \u001b[0mcallback\u001b[0m\u001b[1;33m:\u001b[0m\u001b[1;33m\u001b[0m\u001b[0m\n\u001b[0;32m    113\u001b[0m             \u001b[0mcallback\u001b[0m\u001b[1;33m(\u001b[0m\u001b[0mresult\u001b[0m\u001b[1;33m)\u001b[0m\u001b[1;33m\u001b[0m\u001b[0m\n",
      "\u001b[1;32m~\\Anaconda3\\lib\\site-packages\\sklearn\\externals\\joblib\\_parallel_backends.py\u001b[0m in \u001b[0;36m__init__\u001b[1;34m(self, batch)\u001b[0m\n\u001b[0;32m    330\u001b[0m         \u001b[1;31m# Don't delay the application, to avoid keeping the input\u001b[0m\u001b[1;33m\u001b[0m\u001b[1;33m\u001b[0m\u001b[0m\n\u001b[0;32m    331\u001b[0m         \u001b[1;31m# arguments in memory\u001b[0m\u001b[1;33m\u001b[0m\u001b[1;33m\u001b[0m\u001b[0m\n\u001b[1;32m--> 332\u001b[1;33m         \u001b[0mself\u001b[0m\u001b[1;33m.\u001b[0m\u001b[0mresults\u001b[0m \u001b[1;33m=\u001b[0m \u001b[0mbatch\u001b[0m\u001b[1;33m(\u001b[0m\u001b[1;33m)\u001b[0m\u001b[1;33m\u001b[0m\u001b[0m\n\u001b[0m\u001b[0;32m    333\u001b[0m \u001b[1;33m\u001b[0m\u001b[0m\n\u001b[0;32m    334\u001b[0m     \u001b[1;32mdef\u001b[0m \u001b[0mget\u001b[0m\u001b[1;33m(\u001b[0m\u001b[0mself\u001b[0m\u001b[1;33m)\u001b[0m\u001b[1;33m:\u001b[0m\u001b[1;33m\u001b[0m\u001b[0m\n",
      "\u001b[1;32m~\\Anaconda3\\lib\\site-packages\\sklearn\\externals\\joblib\\parallel.py\u001b[0m in \u001b[0;36m__call__\u001b[1;34m(self)\u001b[0m\n\u001b[0;32m    129\u001b[0m \u001b[1;33m\u001b[0m\u001b[0m\n\u001b[0;32m    130\u001b[0m     \u001b[1;32mdef\u001b[0m \u001b[0m__call__\u001b[0m\u001b[1;33m(\u001b[0m\u001b[0mself\u001b[0m\u001b[1;33m)\u001b[0m\u001b[1;33m:\u001b[0m\u001b[1;33m\u001b[0m\u001b[0m\n\u001b[1;32m--> 131\u001b[1;33m         \u001b[1;32mreturn\u001b[0m \u001b[1;33m[\u001b[0m\u001b[0mfunc\u001b[0m\u001b[1;33m(\u001b[0m\u001b[1;33m*\u001b[0m\u001b[0margs\u001b[0m\u001b[1;33m,\u001b[0m \u001b[1;33m**\u001b[0m\u001b[0mkwargs\u001b[0m\u001b[1;33m)\u001b[0m \u001b[1;32mfor\u001b[0m \u001b[0mfunc\u001b[0m\u001b[1;33m,\u001b[0m \u001b[0margs\u001b[0m\u001b[1;33m,\u001b[0m \u001b[0mkwargs\u001b[0m \u001b[1;32min\u001b[0m \u001b[0mself\u001b[0m\u001b[1;33m.\u001b[0m\u001b[0mitems\u001b[0m\u001b[1;33m]\u001b[0m\u001b[1;33m\u001b[0m\u001b[0m\n\u001b[0m\u001b[0;32m    132\u001b[0m \u001b[1;33m\u001b[0m\u001b[0m\n\u001b[0;32m    133\u001b[0m     \u001b[1;32mdef\u001b[0m \u001b[0m__len__\u001b[0m\u001b[1;33m(\u001b[0m\u001b[0mself\u001b[0m\u001b[1;33m)\u001b[0m\u001b[1;33m:\u001b[0m\u001b[1;33m\u001b[0m\u001b[0m\n",
      "\u001b[1;32m~\\Anaconda3\\lib\\site-packages\\sklearn\\externals\\joblib\\parallel.py\u001b[0m in \u001b[0;36m<listcomp>\u001b[1;34m(.0)\u001b[0m\n\u001b[0;32m    129\u001b[0m \u001b[1;33m\u001b[0m\u001b[0m\n\u001b[0;32m    130\u001b[0m     \u001b[1;32mdef\u001b[0m \u001b[0m__call__\u001b[0m\u001b[1;33m(\u001b[0m\u001b[0mself\u001b[0m\u001b[1;33m)\u001b[0m\u001b[1;33m:\u001b[0m\u001b[1;33m\u001b[0m\u001b[0m\n\u001b[1;32m--> 131\u001b[1;33m         \u001b[1;32mreturn\u001b[0m \u001b[1;33m[\u001b[0m\u001b[0mfunc\u001b[0m\u001b[1;33m(\u001b[0m\u001b[1;33m*\u001b[0m\u001b[0margs\u001b[0m\u001b[1;33m,\u001b[0m \u001b[1;33m**\u001b[0m\u001b[0mkwargs\u001b[0m\u001b[1;33m)\u001b[0m \u001b[1;32mfor\u001b[0m \u001b[0mfunc\u001b[0m\u001b[1;33m,\u001b[0m \u001b[0margs\u001b[0m\u001b[1;33m,\u001b[0m \u001b[0mkwargs\u001b[0m \u001b[1;32min\u001b[0m \u001b[0mself\u001b[0m\u001b[1;33m.\u001b[0m\u001b[0mitems\u001b[0m\u001b[1;33m]\u001b[0m\u001b[1;33m\u001b[0m\u001b[0m\n\u001b[0m\u001b[0;32m    132\u001b[0m \u001b[1;33m\u001b[0m\u001b[0m\n\u001b[0;32m    133\u001b[0m     \u001b[1;32mdef\u001b[0m \u001b[0m__len__\u001b[0m\u001b[1;33m(\u001b[0m\u001b[0mself\u001b[0m\u001b[1;33m)\u001b[0m\u001b[1;33m:\u001b[0m\u001b[1;33m\u001b[0m\u001b[0m\n",
      "\u001b[1;32m~\\Anaconda3\\lib\\site-packages\\sklearn\\cross_validation.py\u001b[0m in \u001b[0;36m_fit_and_score\u001b[1;34m(estimator, X, y, scorer, train, test, verbose, parameters, fit_params, return_train_score, return_parameters, error_score)\u001b[0m\n\u001b[0;32m   1673\u001b[0m             \u001b[0mestimator\u001b[0m\u001b[1;33m.\u001b[0m\u001b[0mfit\u001b[0m\u001b[1;33m(\u001b[0m\u001b[0mX_train\u001b[0m\u001b[1;33m,\u001b[0m \u001b[1;33m**\u001b[0m\u001b[0mfit_params\u001b[0m\u001b[1;33m)\u001b[0m\u001b[1;33m\u001b[0m\u001b[0m\n\u001b[0;32m   1674\u001b[0m         \u001b[1;32melse\u001b[0m\u001b[1;33m:\u001b[0m\u001b[1;33m\u001b[0m\u001b[0m\n\u001b[1;32m-> 1675\u001b[1;33m             \u001b[0mestimator\u001b[0m\u001b[1;33m.\u001b[0m\u001b[0mfit\u001b[0m\u001b[1;33m(\u001b[0m\u001b[0mX_train\u001b[0m\u001b[1;33m,\u001b[0m \u001b[0my_train\u001b[0m\u001b[1;33m,\u001b[0m \u001b[1;33m**\u001b[0m\u001b[0mfit_params\u001b[0m\u001b[1;33m)\u001b[0m\u001b[1;33m\u001b[0m\u001b[0m\n\u001b[0m\u001b[0;32m   1676\u001b[0m \u001b[1;33m\u001b[0m\u001b[0m\n\u001b[0;32m   1677\u001b[0m     \u001b[1;32mexcept\u001b[0m \u001b[0mException\u001b[0m \u001b[1;32mas\u001b[0m \u001b[0me\u001b[0m\u001b[1;33m:\u001b[0m\u001b[1;33m\u001b[0m\u001b[0m\n",
      "\u001b[1;32m~\\Anaconda3\\lib\\site-packages\\sklearn\\ensemble\\gradient_boosting.py\u001b[0m in \u001b[0;36mfit\u001b[1;34m(self, X, y, sample_weight, monitor)\u001b[0m\n\u001b[0;32m   1032\u001b[0m         \u001b[1;31m# fit the boosting stages\u001b[0m\u001b[1;33m\u001b[0m\u001b[1;33m\u001b[0m\u001b[0m\n\u001b[0;32m   1033\u001b[0m         n_stages = self._fit_stages(X, y, y_pred, sample_weight, random_state,\n\u001b[1;32m-> 1034\u001b[1;33m                                     begin_at_stage, monitor, X_idx_sorted)\n\u001b[0m\u001b[0;32m   1035\u001b[0m         \u001b[1;31m# change shape of arrays after fit (early-stopping or additional ests)\u001b[0m\u001b[1;33m\u001b[0m\u001b[1;33m\u001b[0m\u001b[0m\n\u001b[0;32m   1036\u001b[0m         \u001b[1;32mif\u001b[0m \u001b[0mn_stages\u001b[0m \u001b[1;33m!=\u001b[0m \u001b[0mself\u001b[0m\u001b[1;33m.\u001b[0m\u001b[0mestimators_\u001b[0m\u001b[1;33m.\u001b[0m\u001b[0mshape\u001b[0m\u001b[1;33m[\u001b[0m\u001b[1;36m0\u001b[0m\u001b[1;33m]\u001b[0m\u001b[1;33m:\u001b[0m\u001b[1;33m\u001b[0m\u001b[0m\n",
      "\u001b[1;32m~\\Anaconda3\\lib\\site-packages\\sklearn\\ensemble\\gradient_boosting.py\u001b[0m in \u001b[0;36m_fit_stages\u001b[1;34m(self, X, y, y_pred, sample_weight, random_state, begin_at_stage, monitor, X_idx_sorted)\u001b[0m\n\u001b[0;32m   1087\u001b[0m             y_pred = self._fit_stage(i, X, y, y_pred, sample_weight,\n\u001b[0;32m   1088\u001b[0m                                      \u001b[0msample_mask\u001b[0m\u001b[1;33m,\u001b[0m \u001b[0mrandom_state\u001b[0m\u001b[1;33m,\u001b[0m \u001b[0mX_idx_sorted\u001b[0m\u001b[1;33m,\u001b[0m\u001b[1;33m\u001b[0m\u001b[0m\n\u001b[1;32m-> 1089\u001b[1;33m                                      X_csc, X_csr)\n\u001b[0m\u001b[0;32m   1090\u001b[0m \u001b[1;33m\u001b[0m\u001b[0m\n\u001b[0;32m   1091\u001b[0m             \u001b[1;31m# track deviance (= loss)\u001b[0m\u001b[1;33m\u001b[0m\u001b[1;33m\u001b[0m\u001b[0m\n",
      "\u001b[1;32m~\\Anaconda3\\lib\\site-packages\\sklearn\\ensemble\\gradient_boosting.py\u001b[0m in \u001b[0;36m_fit_stage\u001b[1;34m(self, i, X, y, y_pred, sample_weight, sample_mask, random_state, X_idx_sorted, X_csc, X_csr)\u001b[0m\n\u001b[0;32m    796\u001b[0m                 loss.update_terminal_regions(tree.tree_, X, y, residual, y_pred,\n\u001b[0;32m    797\u001b[0m                                              \u001b[0msample_weight\u001b[0m\u001b[1;33m,\u001b[0m \u001b[0msample_mask\u001b[0m\u001b[1;33m,\u001b[0m\u001b[1;33m\u001b[0m\u001b[0m\n\u001b[1;32m--> 798\u001b[1;33m                                              self.learning_rate, k=k)\n\u001b[0m\u001b[0;32m    799\u001b[0m \u001b[1;33m\u001b[0m\u001b[0m\n\u001b[0;32m    800\u001b[0m             \u001b[1;31m# add tree to ensemble\u001b[0m\u001b[1;33m\u001b[0m\u001b[1;33m\u001b[0m\u001b[0m\n",
      "\u001b[1;32m~\\Anaconda3\\lib\\site-packages\\sklearn\\ensemble\\gradient_boosting.py\u001b[0m in \u001b[0;36mupdate_terminal_regions\u001b[1;34m(self, tree, X, y, residual, y_pred, sample_weight, sample_mask, learning_rate, k)\u001b[0m\n\u001b[0;32m    247\u001b[0m             self._update_terminal_region(tree, masked_terminal_regions,\n\u001b[0;32m    248\u001b[0m                                          \u001b[0mleaf\u001b[0m\u001b[1;33m,\u001b[0m \u001b[0mX\u001b[0m\u001b[1;33m,\u001b[0m \u001b[0my\u001b[0m\u001b[1;33m,\u001b[0m \u001b[0mresidual\u001b[0m\u001b[1;33m,\u001b[0m\u001b[1;33m\u001b[0m\u001b[0m\n\u001b[1;32m--> 249\u001b[1;33m                                          y_pred[:, k], sample_weight)\n\u001b[0m\u001b[0;32m    250\u001b[0m \u001b[1;33m\u001b[0m\u001b[0m\n\u001b[0;32m    251\u001b[0m         \u001b[1;31m# update predictions (both in-bag and out-of-bag)\u001b[0m\u001b[1;33m\u001b[0m\u001b[1;33m\u001b[0m\u001b[0m\n",
      "\u001b[1;32m~\\Anaconda3\\lib\\site-packages\\sklearn\\ensemble\\gradient_boosting.py\u001b[0m in \u001b[0;36m_update_terminal_region\u001b[1;34m(self, tree, terminal_regions, leaf, X, y, residual, pred, sample_weight)\u001b[0m\n\u001b[0;32m    388\u001b[0m         diff = (y.take(terminal_region, axis=0)\n\u001b[0;32m    389\u001b[0m                 - pred.take(terminal_region, axis=0))\n\u001b[1;32m--> 390\u001b[1;33m         \u001b[0mmedian\u001b[0m \u001b[1;33m=\u001b[0m \u001b[0m_weighted_percentile\u001b[0m\u001b[1;33m(\u001b[0m\u001b[0mdiff\u001b[0m\u001b[1;33m,\u001b[0m \u001b[0msample_weight\u001b[0m\u001b[1;33m,\u001b[0m \u001b[0mpercentile\u001b[0m\u001b[1;33m=\u001b[0m\u001b[1;36m50\u001b[0m\u001b[1;33m)\u001b[0m\u001b[1;33m\u001b[0m\u001b[0m\n\u001b[0m\u001b[0;32m    391\u001b[0m         \u001b[0mdiff_minus_median\u001b[0m \u001b[1;33m=\u001b[0m \u001b[0mdiff\u001b[0m \u001b[1;33m-\u001b[0m \u001b[0mmedian\u001b[0m\u001b[1;33m\u001b[0m\u001b[0m\n\u001b[0;32m    392\u001b[0m         tree.value[leaf, 0] = median + np.mean(\n",
      "\u001b[1;32m~\\Anaconda3\\lib\\site-packages\\sklearn\\utils\\stats.py\u001b[0m in \u001b[0;36m_weighted_percentile\u001b[1;34m(array, sample_weight, percentile)\u001b[0m\n\u001b[0;32m     22\u001b[0m     \u001b[0mweight_cdf\u001b[0m \u001b[1;33m=\u001b[0m \u001b[0mstable_cumsum\u001b[0m\u001b[1;33m(\u001b[0m\u001b[0msample_weight\u001b[0m\u001b[1;33m[\u001b[0m\u001b[0msorted_idx\u001b[0m\u001b[1;33m]\u001b[0m\u001b[1;33m)\u001b[0m\u001b[1;33m\u001b[0m\u001b[0m\n\u001b[0;32m     23\u001b[0m     percentile_idx = np.searchsorted(\n\u001b[1;32m---> 24\u001b[1;33m         weight_cdf, (percentile / 100.) * weight_cdf[-1])\n\u001b[0m\u001b[0;32m     25\u001b[0m     \u001b[1;32mreturn\u001b[0m \u001b[0marray\u001b[0m\u001b[1;33m[\u001b[0m\u001b[0msorted_idx\u001b[0m\u001b[1;33m[\u001b[0m\u001b[0mpercentile_idx\u001b[0m\u001b[1;33m]\u001b[0m\u001b[1;33m]\u001b[0m\u001b[1;33m\u001b[0m\u001b[0m\n",
      "\u001b[1;32m~\\Anaconda3\\lib\\site-packages\\numpy\\core\\fromnumeric.py\u001b[0m in \u001b[0;36msearchsorted\u001b[1;34m(a, v, side, sorter)\u001b[0m\n\u001b[0;32m   1073\u001b[0m \u001b[1;33m\u001b[0m\u001b[0m\n\u001b[0;32m   1074\u001b[0m     \"\"\"\n\u001b[1;32m-> 1075\u001b[1;33m     \u001b[1;32mreturn\u001b[0m \u001b[0m_wrapfunc\u001b[0m\u001b[1;33m(\u001b[0m\u001b[0ma\u001b[0m\u001b[1;33m,\u001b[0m \u001b[1;34m'searchsorted'\u001b[0m\u001b[1;33m,\u001b[0m \u001b[0mv\u001b[0m\u001b[1;33m,\u001b[0m \u001b[0mside\u001b[0m\u001b[1;33m=\u001b[0m\u001b[0mside\u001b[0m\u001b[1;33m,\u001b[0m \u001b[0msorter\u001b[0m\u001b[1;33m=\u001b[0m\u001b[0msorter\u001b[0m\u001b[1;33m)\u001b[0m\u001b[1;33m\u001b[0m\u001b[0m\n\u001b[0m\u001b[0;32m   1076\u001b[0m \u001b[1;33m\u001b[0m\u001b[0m\n\u001b[0;32m   1077\u001b[0m \u001b[1;33m\u001b[0m\u001b[0m\n",
      "\u001b[1;32m~\\Anaconda3\\lib\\site-packages\\numpy\\core\\fromnumeric.py\u001b[0m in \u001b[0;36m_wrapfunc\u001b[1;34m(obj, method, *args, **kwds)\u001b[0m\n\u001b[0;32m     55\u001b[0m \u001b[1;32mdef\u001b[0m \u001b[0m_wrapfunc\u001b[0m\u001b[1;33m(\u001b[0m\u001b[0mobj\u001b[0m\u001b[1;33m,\u001b[0m \u001b[0mmethod\u001b[0m\u001b[1;33m,\u001b[0m \u001b[1;33m*\u001b[0m\u001b[0margs\u001b[0m\u001b[1;33m,\u001b[0m \u001b[1;33m**\u001b[0m\u001b[0mkwds\u001b[0m\u001b[1;33m)\u001b[0m\u001b[1;33m:\u001b[0m\u001b[1;33m\u001b[0m\u001b[0m\n\u001b[0;32m     56\u001b[0m     \u001b[1;32mtry\u001b[0m\u001b[1;33m:\u001b[0m\u001b[1;33m\u001b[0m\u001b[0m\n\u001b[1;32m---> 57\u001b[1;33m         \u001b[1;32mreturn\u001b[0m \u001b[0mgetattr\u001b[0m\u001b[1;33m(\u001b[0m\u001b[0mobj\u001b[0m\u001b[1;33m,\u001b[0m \u001b[0mmethod\u001b[0m\u001b[1;33m)\u001b[0m\u001b[1;33m(\u001b[0m\u001b[1;33m*\u001b[0m\u001b[0margs\u001b[0m\u001b[1;33m,\u001b[0m \u001b[1;33m**\u001b[0m\u001b[0mkwds\u001b[0m\u001b[1;33m)\u001b[0m\u001b[1;33m\u001b[0m\u001b[0m\n\u001b[0m\u001b[0;32m     58\u001b[0m \u001b[1;33m\u001b[0m\u001b[0m\n\u001b[0;32m     59\u001b[0m     \u001b[1;31m# An AttributeError occurs if the object does not have\u001b[0m\u001b[1;33m\u001b[0m\u001b[1;33m\u001b[0m\u001b[0m\n",
      "\u001b[1;31mKeyboardInterrupt\u001b[0m: "
     ]
    }
   ],
   "source": [
    "scores = cv.cross_val_score(Model_GradientBoostingRegression_1, X_train, y_train, cv=10)\n",
    "scores.mean()\n",
    "scores = cv.cross_val_score(Model_GradientBoostingRegression_2, X_train, y_train, cv=10)\n",
    "scores.mean()\n",
    "scores = cv.cross_val_score(Model_GradientBoostingRegression_3, X_train, y_train, cv=10)\n",
    "scores.mean()\n",
    "scores = cv.cross_val_score(Model_GradientBoostingRegression_4, X_train, y_train, cv=10)\n",
    "scores.mean()"
   ]
  },
  {
   "cell_type": "code",
   "execution_count": 10,
   "metadata": {},
   "outputs": [
    {
     "name": "stdout",
     "output_type": "stream",
     "text": [
      "[ 11.71573112  12.02268514  12.16057291 ...,  11.95383077  11.66961236\n",
      "  12.28701467]\n",
      "[ 11.71128868  12.00165215  12.17846699 ...,  12.1130437   11.70864665\n",
      "  12.33930739]\n",
      "[ 11.76219886  12.03170436  12.17618708 ...,  11.97590181  11.63754807\n",
      "  12.33534173]\n",
      "[ 11.76662884  12.0343554   12.14747986 ...,  11.93345225  11.64706921\n",
      "  12.33240002]\n"
     ]
    }
   ],
   "source": [
    "y_predict1_GradientBoostingRegression = Model_GradientBoostingRegression_1.predict(X_test)\n",
    "print(y_predict1_GradientBoostingRegression)\n",
    "y_predict2_GradientBoostingRegression = Model_GradientBoostingRegression_2.predict(X_test)\n",
    "print(y_predict2_GradientBoostingRegression)\n",
    "y_predict3_GradientBoostingRegression = Model_GradientBoostingRegression_3.predict(X_test)\n",
    "print(y_predict3_GradientBoostingRegression)\n",
    "y_predict4_GradientBoostingRegression = Model_GradientBoostingRegression_4.predict(X_test)\n",
    "print(y_predict4_GradientBoostingRegression)"
   ]
  },
  {
   "cell_type": "code",
   "execution_count": 11,
   "metadata": {},
   "outputs": [
    {
     "name": "stdout",
     "output_type": "stream",
     "text": [
      "[ 122483.44026352  166489.1034437   191103.97041622 ...,  155411.35267332\n",
      "  116962.93440864  216861.60671169]\n",
      "[ 121940.52149466  163023.90898248  194554.37887591 ...,  182233.42562695\n",
      "  121618.77627628  228503.63220489]\n",
      "[ 128309.27730868  167997.49792228  194111.31924516 ...,  158879.57592616\n",
      "  113272.08886597  227599.26054486]\n",
      "[ 128878.94656306  168443.45676216  188618.14564805 ...,  152276.35142304\n",
      "  114355.71860106  226930.71304558]\n"
     ]
    }
   ],
   "source": [
    "#y_test\n",
    "y1_Gradient = np.exp(y_predict1_GradientBoostingRegression)\n",
    "print(y1_Gradient)\n",
    "y2_Gradient = np.exp(y_predict2_GradientBoostingRegression)\n",
    "print(y2_Gradient)\n",
    "y3_Gradient = np.exp(y_predict3_GradientBoostingRegression)\n",
    "print(y3_Gradient)\n",
    "y4_Gradient = np.exp(y_predict4_GradientBoostingRegression)\n",
    "print(y4_Gradient)\n"
   ]
  },
  {
   "cell_type": "code",
   "execution_count": 110,
   "metadata": {
    "collapsed": true
   },
   "outputs": [],
   "source": [
    "def rmse_cv(model):\n",
    "    rmse= np.sqrt(-cross_val_score(model, X_train,y_train, scoring=\"neg_mean_squared_error\", cv = 5))\n",
    "    return(rmse)"
   ]
  },
  {
   "cell_type": "code",
   "execution_count": 13,
   "metadata": {},
   "outputs": [
    {
     "data": {
      "text/plain": [
       "[mean: -0.01459, std: 0.00417, params: {'alpha': 0.05},\n",
       " mean: -0.01445, std: 0.00414, params: {'alpha': 0.1},\n",
       " mean: -0.01410, std: 0.00405, params: {'alpha': 0.3},\n",
       " mean: -0.01357, std: 0.00387, params: {'alpha': 1},\n",
       " mean: -0.01312, std: 0.00361, params: {'alpha': 3},\n",
       " mean: -0.01299, std: 0.00348, params: {'alpha': 5},\n",
       " mean: -0.01297, std: 0.00329, params: {'alpha': 10},\n",
       " mean: -0.01308, std: 0.00319, params: {'alpha': 15},\n",
       " mean: -0.01358, std: 0.00302, params: {'alpha': 30},\n",
       " mean: -0.01429, std: 0.00289, params: {'alpha': 50},\n",
       " mean: -0.01511, std: 0.00280, params: {'alpha': 75}]"
      ]
     },
     "execution_count": 13,
     "metadata": {},
     "output_type": "execute_result"
    }
   ],
   "source": [
    "model_ridge = Ridge()\n",
    "\n",
    "gs = grid_search.GridSearchCV(\n",
    "    estimator=model_ridge,\n",
    "    param_grid={'alpha':[0.05, 0.1, 0.3, 1, 3, 5, 10, 15, 30, 50, 75]},\n",
    "    scoring='neg_mean_squared_error',\n",
    "    cv=10\n",
    "    )\n",
    "\n",
    "gs.fit(X_train, y_train)\n",
    "\n",
    "\n",
    "gs.grid_scores_"
   ]
  },
  {
   "cell_type": "code",
   "execution_count": 14,
   "metadata": {},
   "outputs": [
    {
     "data": {
      "text/plain": [
       "0.11386977832420478"
      ]
     },
     "execution_count": 14,
     "metadata": {},
     "output_type": "execute_result"
    }
   ],
   "source": [
    "from math import sqrt\n",
    "sqrt(-gs.best_score_)"
   ]
  },
  {
   "cell_type": "code",
   "execution_count": 15,
   "metadata": {
    "collapsed": true
   },
   "outputs": [],
   "source": [
    "#Model_Ridge\n",
    "model_ridge = Ridge(alpha = 10)"
   ]
  },
  {
   "cell_type": "code",
   "execution_count": 16,
   "metadata": {
    "collapsed": true
   },
   "outputs": [],
   "source": [
    "model_ridge =RidgeCV().fit(X_train,y_train)\n",
    "ridge_preds =np.expm1(model_ridge.predict(X_test))\n"
   ]
  },
  {
   "cell_type": "code",
   "execution_count": 86,
   "metadata": {},
   "outputs": [
    {
     "name": "stdout",
     "output_type": "stream",
     "text": [
      "[ 0.10524831  0.11627766  0.12700789  0.10852312  0.11006423]\n"
     ]
    },
    {
     "data": {
      "text/plain": [
       "0.11342424408311473"
      ]
     },
     "execution_count": 86,
     "metadata": {},
     "output_type": "execute_result"
    }
   ],
   "source": [
    "#Model_Lasso\n",
    "model_lasso = LassoCV(alphas = [1, 0.1, 0.001, 0.0005]).fit(X_train, y_train)\n",
    "print(rmse_cv(model_lasso))\n",
    "rmse_cv(model_lasso).mean()\n",
    "#model_lasso.alpha_"
   ]
  },
  {
   "cell_type": "code",
   "execution_count": 87,
   "metadata": {
    "collapsed": true
   },
   "outputs": [],
   "source": [
    "\n",
    "#model_lasso = make_pipeline(RobustScaler(), Lasso(alpha =0.0005, random_state=0)).fit(X_train, y_train)\n",
    "\n",
    "#score = rmse_cv(model_lasso).mean()\n",
    "#score"
   ]
  },
  {
   "cell_type": "code",
   "execution_count": 88,
   "metadata": {
    "collapsed": true
   },
   "outputs": [],
   "source": [
    "coef = pd.Series(model_lasso.coef_, index = X_train.columns)"
   ]
  },
  {
   "cell_type": "code",
   "execution_count": 89,
   "metadata": {},
   "outputs": [
    {
     "name": "stdout",
     "output_type": "stream",
     "text": [
      "Lasso picked 95 variables and eliminated the other 125 variables\n"
     ]
    }
   ],
   "source": [
    "print(\"Lasso picked \" + str(sum(coef != 0)) + \" variables and eliminated the other \" +  str(sum(coef == 0)) + \" variables\")"
   ]
  },
  {
   "cell_type": "code",
   "execution_count": 92,
   "metadata": {
    "collapsed": true
   },
   "outputs": [],
   "source": [
    "lasso_preds = np.expm1(model_lasso.predict(X_test))"
   ]
  },
  {
   "cell_type": "code",
   "execution_count": 94,
   "metadata": {},
   "outputs": [
    {
     "data": {
      "text/plain": [
       "array([ 121399.68297285,  157985.65254428,  183645.11283799, ...,\n",
       "        174811.90512721,  113306.9967582 ,  227383.07501768])"
      ]
     },
     "execution_count": 94,
     "metadata": {},
     "output_type": "execute_result"
    }
   ],
   "source": [
    "lasso_preds"
   ]
  },
  {
   "cell_type": "code",
   "execution_count": 96,
   "metadata": {
    "collapsed": true
   },
   "outputs": [],
   "source": [
    "ensemble = ((lasso_preds +  ridge_preds)/2 + (y1_Gradient+y2_Gradient)/2)/2"
   ]
  },
  {
   "cell_type": "code",
   "execution_count": 97,
   "metadata": {
    "scrolled": true
   },
   "outputs": [
    {
     "name": "stdout",
     "output_type": "stream",
     "text": [
      "[ 122483.44026352  166489.1034437   191103.97041622 ...,  155411.35267332\n",
      "  116962.93440864  216861.60671169]\n",
      "[ 121940.52149466  163023.90898248  194554.37887591 ...,  182233.42562695\n",
      "  121618.77627628  228503.63220489]\n"
     ]
    },
    {
     "data": {
      "text/plain": [
       "array([ 121307.89861076,  161124.65150368,  188615.14915951, ...,\n",
       "        172187.22979351,  116996.82084315,  223579.61193878])"
      ]
     },
     "execution_count": 97,
     "metadata": {},
     "output_type": "execute_result"
    }
   ],
   "source": [
    "print(y1_Gradient)\n",
    "print(y2_Gradient)\n",
    "y3_Gradient\n",
    "ensemble"
   ]
  },
  {
   "cell_type": "code",
   "execution_count": 98,
   "metadata": {
    "collapsed": true
   },
   "outputs": [],
   "source": [
    "Submission = pd.DataFrame({'Id':list(range(1461,2920,1)),'SalePrice':ensemble})\n",
    "Submission.to_csv('Trial.csv', index=False)"
   ]
  }
 ],
 "metadata": {
  "kernelspec": {
   "display_name": "Python 3",
   "language": "python",
   "name": "python3"
  },
  "language_info": {
   "codemirror_mode": {
    "name": "ipython",
    "version": 3
   },
   "file_extension": ".py",
   "mimetype": "text/x-python",
   "name": "python",
   "nbconvert_exporter": "python",
   "pygments_lexer": "ipython3",
   "version": "3.6.3"
  }
 },
 "nbformat": 4,
 "nbformat_minor": 2
}
